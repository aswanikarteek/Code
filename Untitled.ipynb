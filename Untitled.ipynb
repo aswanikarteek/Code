{
 "cells": [
  {
   "cell_type": "code",
   "execution_count": 14,
   "metadata": {
    "collapsed": false
   },
   "outputs": [],
   "source": [
    "import pandas as pd\n",
    "f = pd.read_csv(\"/Users/sowcar/Downloads/Traffic_violations.csv\")\n",
    "f['tgt'] = 0\n"
   ]
  },
  {
   "cell_type": "code",
   "execution_count": 58,
   "metadata": {
    "collapsed": false
   },
   "outputs": [
    {
     "data": {
      "text/plain": [
       "Make       Model     \n",
       "4DR        HONDA          1\n",
       "JAGUAR     X-TYPE 3.0     1\n",
       "           XTYPE          1\n",
       "JEEP       4D             1\n",
       "           4X4            1\n",
       "           LIBERTY        1\n",
       "           PATRIOT        1\n",
       "           TRUCK          1\n",
       "           WRANGLER       1\n",
       "KENWORTH   TTT            1\n",
       "KIA        4 DOOR         1\n",
       "           4DR            1\n",
       "           AMANTI         1\n",
       "           FORTE          1\n",
       "           SOUL           1\n",
       "JAGUAR     4S STYPE R     1\n",
       "LEXUS      4DR            1\n",
       "           IS250          1\n",
       "           LS400          1\n",
       "           SUV            1\n",
       "           TK             1\n",
       "LINC       NAVIGATOR      1\n",
       "           TK             1\n",
       "LINCOLN    MKZ            1\n",
       "           NAVIGATOR      1\n",
       "LNDR       TK             1\n",
       "MAZD       3              1\n",
       "           PROTEGE        1\n",
       "MAZDA      3`             1\n",
       "           4D             1\n",
       "                         ..\n",
       "CHEVY      4S             7\n",
       "NONE       NONE           7\n",
       "DODGE      CARAVAN        8\n",
       "MAZDA      2              8\n",
       "CHEVROLET  MALIBU         8\n",
       "HONDA      4S             8\n",
       "SUZIK      GXSR1000       9\n",
       "TOYOTA     SCION          9\n",
       "MERC       4S             9\n",
       "FORD       MUSTANG       10\n",
       "ACURA      MDX           10\n",
       "HYUNDAI    ELANTRA       10\n",
       "DODGE      DURANGO       10\n",
       "CHRYSLER   SEBRING       10\n",
       "FORD       ESCAPE        11\n",
       "TOYT       4S            11\n",
       "TOYOTA     RAV4          11\n",
       "CHEVY      SILVERADO     11\n",
       "FORD       FUSION        12\n",
       "           FOCUS         12\n",
       "           EXPLORER      12\n",
       "NISSAN     SENTRA        14\n",
       "HONDA      CIVIC         15\n",
       "FORD       F150          15\n",
       "           TK            16\n",
       "HONDA      ACCORD        18\n",
       "TOYOTA     CAMRY         18\n",
       "NISSAN     ALTIMA        22\n",
       "CHEVROLET  TAHOE         25\n",
       "TOYOTA     COROLLA       25\n",
       "dtype: int64"
      ]
     },
     "execution_count": 58,
     "metadata": {},
     "output_type": "execute_result"
    }
   ],
   "source": [
    "#f.Gender.value_counts()\n",
    "f[(f['Driver State'] == 'TX')].groupby(['Make','Model']).size().sort_values(ascending = 'False')"
   ]
  }
 ],
 "metadata": {
  "anaconda-cloud": {},
  "kernelspec": {
   "display_name": "Python [default]",
   "language": "python",
   "name": "python2"
  },
  "language_info": {
   "codemirror_mode": {
    "name": "ipython",
    "version": 2
   },
   "file_extension": ".py",
   "mimetype": "text/x-python",
   "name": "python",
   "nbconvert_exporter": "python",
   "pygments_lexer": "ipython2",
   "version": "2.7.12"
  }
 },
 "nbformat": 4,
 "nbformat_minor": 1
}
